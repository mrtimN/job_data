{
 "cells": [
  {
   "cell_type": "code",
   "execution_count": 9,
   "id": "30d0f432-9e0d-4940-8b96-ad8b5d206202",
   "metadata": {},
   "outputs": [
    {
     "data": {
      "text/plain": [
       "Index(['job_title', 'company_name', 'post_date', 'repost_date', 'email',\n",
       "       'number_of_employees', 'job_desc', 'num_applicants', 'job_type',\n",
       "       'job_level', 'job_remote', 'language', 'salary', 'sector', 'link',\n",
       "       'search_term'],\n",
       "      dtype='object')"
      ]
     },
     "execution_count": 9,
     "metadata": {},
     "output_type": "execute_result"
    }
   ],
   "source": [
    "import pandas as pd\n",
    "import plotly as pl\n",
    "url = \"combined_job_offers.csv\"\n",
    "\n",
    "df = pd.read_csv(url)\n",
    "pd.set_option('display.max_columns', None)\n",
    "df.head(50)\n",
    "df.columns"
   ]
  },
  {
   "cell_type": "code",
   "execution_count": null,
   "id": "83a6d5d4-0aa5-4efd-936a-9b4e8e3d86f8",
   "metadata": {},
   "outputs": [],
   "source": []
  },
  {
   "cell_type": "code",
   "execution_count": null,
   "id": "566cc251-7421-4ca2-aac7-66afef0522bb",
   "metadata": {},
   "outputs": [],
   "source": []
  },
  {
   "cell_type": "code",
   "execution_count": null,
   "id": "900e1ec3-142e-46ec-a728-9ed42e5f6238",
   "metadata": {},
   "outputs": [],
   "source": []
  },
  {
   "cell_type": "code",
   "execution_count": null,
   "id": "dcbc7499-7d03-4a24-8ba5-d1a991b076b3",
   "metadata": {},
   "outputs": [],
   "source": []
  }
 ],
 "metadata": {
  "kernelspec": {
   "display_name": "Python [conda env:base] *",
   "language": "python",
   "name": "conda-base-py"
  },
  "language_info": {
   "codemirror_mode": {
    "name": "ipython",
    "version": 3
   },
   "file_extension": ".py",
   "mimetype": "text/x-python",
   "name": "python",
   "nbconvert_exporter": "python",
   "pygments_lexer": "ipython3",
   "version": "3.12.7"
  }
 },
 "nbformat": 4,
 "nbformat_minor": 5
}
