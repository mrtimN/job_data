{
 "cells": [
  {
   "cell_type": "code",
   "execution_count": null,
   "id": "30d0f432-9e0d-4940-8b96-ad8b5d206202",
   "metadata": {},
   "outputs": [],
   "source": [
    "#!pip install curl_cffi\n",
    "import functions\n",
    "import matplotlib.pyplot as plt\n",
    "import pandas as pd\n",
    "import plotly as pl\n",
    "import seaborn as sns\n",
    "\n",
    "url = 'data/combined_job_offers.csv'\n",
    "url2 = 'data/combined_job_offers3.csv'\n",
    "url_scraped = 'data/scraped_data.csv'\n",
    "\n",
    "# reading the 2 base datasets\n",
    "df1 = pd.read_csv(url)\n",
    "df2 = pd.read_csv(url2)\n",
    "\n",
    "df3 = pd.concat([df1,df2],axis=0)\n",
    "\n",
    "#reading the dataset, scraped from stepstone\n",
    "df_scraped = pd.read_csv(url_scraped)\n",
    "\n",
    "pd.set_option('display.max_columns', None)"
   ]
  },
  {
   "cell_type": "code",
   "execution_count": null,
   "id": "4f9bd5c2-b2eb-4d2b-b44c-c79a5042f486",
   "metadata": {},
   "outputs": [],
   "source": [
    "# cleaning the base dataset\n",
    "# 1 drop columns df3\n",
    "df3.drop(columns =['repost_date', 'email', 'job_desc'], inplace=True)\n",
    "\n",
    "# 2 Renaming 'link'\n",
    "df3.rename(columns={'link': 'source'}, inplace=True)\n",
    "\n",
    "# 3 replace all links with LinkedIn\n",
    "# apply lambda for each cell replace all string\n",
    "df3['source'] = df3['source'].apply(lambda x: 'LinkedIn')"
   ]
  },
  {
   "cell_type": "code",
   "execution_count": null,
   "id": "a4303ef9-16c0-4162-a575-437d1317dd8c",
   "metadata": {},
   "outputs": [],
   "source": [
    "# remove duplicates from scraped dataset\n",
    "df_scraped.drop_duplicates(subset=['job_title', 'company_name', 'post_date'], keep='last', inplace=True)\n",
    "\n",
    "# combine scraped dataset with base dataset\n",
    "df_combined = pd.concat([df3,df_scraped],axis=0)\n",
    "\n",
    "# apply wrangling the job_levels\n",
    "df_combined['job_level'] = df_combined.apply(replace_nan_with_job_level, axis=1)\n",
    "df_combined['sector'] = df_combined.apply(replace_sectors, axis=1)"
   ]
  },
  {
   "cell_type": "code",
   "execution_count": null,
   "id": "f0fed25e-acf7-4152-842c-ab3a22f1a8bb",
   "metadata": {},
   "outputs": [],
   "source": [
    "top_5_sectors = test['sector'].value_counts().head(10)"
   ]
  },
  {
   "cell_type": "code",
   "execution_count": null,
   "id": "02ce175b-6398-4674-8cd3-dd2d5501ed16",
   "metadata": {},
   "outputs": [],
   "source": [
    "test.groupby([\"job_level\", \"sector\"])[\"job_type\"].count()"
   ]
  },
  {
   "cell_type": "code",
   "execution_count": null,
   "id": "11a2f5c2-66a9-4c5f-b1ca-02a0b4df74dc",
   "metadata": {},
   "outputs": [],
   "source": [
    "# job categories and experience\n",
    "job_experience = {\n",
    "    'Entry level': 0-3,\n",
    "    'Junior': 1,  # Averaging between 0-2 years\n",
    "    'Associate': 2,  # Averaging between 1-3 years\n",
    "    'Mid-Senior level': 4,  # Averaging between 3-5 years\n",
    "    'Senior': 7.5,  # Averaging between 5-10 years\n",
    "    'Lead': 7.5,  # Averaging between 5-10 years\n",
    "    'Manager': 10,  # At the start of the 5-10+ range\n",
    "    'Executive': 10,\n",
    "    'Director': 10,\n",
    "    'Consultant': 10,\n",
    "    'Unknown': float('nan')  # For visualization purposes, use NaN\n",
    "}\n",
    "\n",
    "# Convert the dictionary to a DataFrame\n",
    "df = pd.DataFrame(list(job_experience.items()), columns=['Sector', 'Years of Experience'])\n",
    "\n",
    "# Exclude 'Unknown' for some visualizations if they include NaN\n",
    "df_filtered = df.dropna()\n",
    "\n",
    "# Plotting with Seaborn\n",
    "plt.figure(figsize=(6, 3))\n",
    "sns.barplot(x='Sector', y='Years of Experience', data=df_filtered, palette='viridis')\n",
    "\n",
    "plt.title('Breakdown of Job Categories by Years of Experience')\n",
    "plt.xlabel('Job Sector')\n",
    "plt.ylabel('Years of Experience')\n",
    "plt.xticks(rotation=60)\n",
    "plt.show()"
   ]
  },
  {
   "cell_type": "code",
   "execution_count": null,
   "id": "3eb51df5-3556-40a7-a199-db529d89b711",
   "metadata": {},
   "outputs": [],
   "source": [
    "\n",
    "grouped_data = test.groupby([\"job_level\", \"sector\"])[\"job_type\"].count().reset_index()\n",
    "\n",
    "# Rename the count column for clarity\n",
    "grouped_data = grouped_data.rename(columns={\"job_type\": \"type_count\"})\n",
    "\n",
    "# Create a bar plot using Seaborn\n",
    "plt.figure(figsize=(10, 6))\n",
    "sns.barplot(data=grouped_data, x=\"job_level\", y=\"type_count\", hue=\"sector\", dodge=True)\n",
    "\n",
    "# Add titles and labels\n",
    "plt.title(\"Job Type Count by Job Level and Sector\")\n",
    "plt.xlabel(\"Job Level\")\n",
    "plt.ylabel(\"Count of Job Types\")\n",
    "plt.legend(title=\"Sector\")\n",
    "plt.tight_layout()\n",
    "\n",
    "# Display the plot\n",
    "plt.show()\n"
   ]
  },
  {
   "cell_type": "code",
   "execution_count": null,
   "id": "47ce025a-3ad9-4962-91e4-b1d113738847",
   "metadata": {},
   "outputs": [],
   "source": [
    "# Define job sectors and hypothetical counts of data analysts\n",
    "job_sectors = {\n",
    "    'Information Technology & Services': 700,\n",
    "    'Financial Services': 500,\n",
    "    'Engineering Services': 400,\n",
    "    'Software Development': 650,\n",
    "    'Retail': 300,\n",
    "    'Marketing Services': 350,\n",
    "    'Telecommunications': 450,\n",
    "    'Biotechnology': 200,\n",
    "    'Education': 250,\n",
    "    'Healthcare': 300\n",
    "}\n",
    "\n",
    "# Convert to DataFrame\n",
    "df_sectors = pd.DataFrame(list(job_sectors.items()), columns=['Sector', 'Data Analysts'])\n",
    "\n",
    "# Sort the DataFrame for a better visualization\n",
    "df_sectors = df_sectors.sort_values(by='Data Analysts', ascending=False)\n",
    "\n",
    "# Plot using Seaborn, flipping x and y\n",
    "plt.figure(figsize=(6, 4))\n",
    "sns.barplot(y='Data Analysts', x='Sector', data=df_sectors, palette='coolwarm')\n",
    "\n",
    "plt.title('Top 10 Job Sectors for Data Analysts in Germany')\n",
    "plt.ylabel('Number of Data Analysts')\n",
    "plt.xlabel('Job Sector')\n",
    "plt.xticks(rotation=45)  # Rotate x labels for better visibility\n",
    "plt.show()"
   ]
  }
 ],
 "metadata": {
  "kernelspec": {
   "display_name": "Python [conda env:base] *",
   "language": "python",
   "name": "conda-base-py"
  },
  "language_info": {
   "codemirror_mode": {
    "name": "ipython",
    "version": 3
   },
   "file_extension": ".py",
   "mimetype": "text/x-python",
   "name": "python",
   "nbconvert_exporter": "python",
   "pygments_lexer": "ipython3",
   "version": "3.12.7"
  }
 },
 "nbformat": 4,
 "nbformat_minor": 5
}
