{
 "cells": [
  {
   "cell_type": "code",
   "execution_count": 97,
   "id": "30d0f432-9e0d-4940-8b96-ad8b5d206202",
   "metadata": {},
   "outputs": [],
   "source": [
    "import pandas as pd\n",
    "import plotly as pl\n",
    "\n",
    "url = \"data/combined_job_offers.csv\"\n",
    "url2 = \"data/combined_job_offers3.csv\"\n",
    "\n",
    "df1 = pd.read_csv(url)\n",
    "df2 = pd.read_csv(url2)\n",
    "\n",
    "df3 = pd.concat([df1,df2],axis=0)\n",
    "\n",
    "pd.set_option('display.max_columns', None)"
   ]
  },
  {
   "cell_type": "code",
   "execution_count": 99,
   "id": "8095d9f0-eb98-4fff-bae2-3621ae368014",
   "metadata": {},
   "outputs": [],
   "source": [
    "#!pip install curl_cffi\n",
    "import pandas as pd\n",
    "from bs4 import BeautifulSoup\n",
    "from curl_cffi import requests as cureq\n",
    "\n",
    "headers = \"Mozilla/5.0 (Macintosh; Intel Mac OS X 10_15_7) AppleWebKit/537.36 (KHTML, like Gecko) Chrome/132.0.0.0 Safari/537.36\"\n",
    "response = cureq.get(\"https://www.stepstone.de/jobs/data-analyst-or-data-analyst-e-commerce-or-data-analyst-specialist-or-business-data-analyst/in-berlin?radius=30&page=1&q=(Data+Analyst)+OR+(Data+Analyst+E-Commerce)+OR+(Data+Analyst+Specialist)+OR+(Business+Data+Analyst)\", impersonate='chrome')\n",
    "soup = BeautifulSoup(response.content, \"html.parser\")"
   ]
  },
  {
   "cell_type": "code",
   "execution_count": 101,
   "id": "16f1af0e-033b-4142-9328-a096556978eb",
   "metadata": {},
   "outputs": [
    {
     "data": {
      "text/plain": [
       "['Data Analyst Operations (d/w/m)',\n",
       " 'Data Analyst (m/w/d)',\n",
       " 'Business / Data Analyst (m/w/d)',\n",
       " 'Werkstudent Data Engineer / Analyst (m/w/d)',\n",
       " 'Business / Data Analyst*in (w/m/div)',\n",
       " 'Data Analyst (m/w/d)',\n",
       " 'Data Analyst (m/w/d)',\n",
       " 'E-Commerce Cloud Solution Architect (f/m/x)',\n",
       " 'Praktikant E-Commerce - Financial Accounting und Transaction Accounting Beratung - FAAS (w/m/d)',\n",
       " 'Marketplace Manager / eCommerce Specialist (m/w/d)',\n",
       " 'Mitarbeiter E-Commerce (m/w/d)',\n",
       " 'Business Analyst (m/w/d) Data Analytics Vertriebsplanung | Banking',\n",
       " 'Data Driven Business Consultant - Automotive (m/w/d)',\n",
       " 'CRM Spezialist (m/w/d) Datenanalyse & Datenqualität',\n",
       " 'Senior Data Analyst/ Senior Data Scientist',\n",
       " 'Marktforscher (m/w/d) agri experts',\n",
       " 'Research Engineer in AI / Data Scientist (m/f/d)',\n",
       " 'Business Intelligence Expert:in',\n",
       " 'Logistik-Analyst (m/w/d) für E-Commerce',\n",
       " 'Physiker/ Mathematiker/ Naturwissenschaftler als Berater im Bereich Datenintegration (m/w/d)',\n",
       " 'Data Scientist (mwd)',\n",
       " 'Shopmanager E-Commerce B2B (m/w/d)',\n",
       " 'E-Commerce Manager (m/w/d)',\n",
       " 'Senior Data Scientist (m/w/d) – Risikomodelle',\n",
       " '(Junior) Product Manager E-Commerce / Webshop Manager (w/m/d)']"
      ]
     },
     "execution_count": 101,
     "metadata": {},
     "output_type": "execute_result"
    }
   ],
   "source": [
    "# scrape job titles\n",
    "itest = soup.find_all(['article'], attrs={\"class\": 'res-1p8f8en'})\n",
    "job_title_list = []\n",
    "for item in itest:\n",
    "    job_title_list.append(item.find(['div'], attrs={'class': 'res-nehv70'}).get_text())\n",
    "\n",
    "job_title_list"
   ]
  },
  {
   "cell_type": "code",
   "execution_count": null,
   "id": "0451625c-36ae-4850-aa98-ba66d48e73ef",
   "metadata": {},
   "outputs": [],
   "source": []
  }
 ],
 "metadata": {
  "kernelspec": {
   "display_name": "Python [conda env:base] *",
   "language": "python",
   "name": "conda-base-py"
  },
  "language_info": {
   "codemirror_mode": {
    "name": "ipython",
    "version": 3
   },
   "file_extension": ".py",
   "mimetype": "text/x-python",
   "name": "python",
   "nbconvert_exporter": "python",
   "pygments_lexer": "ipython3",
   "version": "3.12.7"
  }
 },
 "nbformat": 4,
 "nbformat_minor": 5
}
