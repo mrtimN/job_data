{
 "cells": [
  {
   "cell_type": "code",
   "execution_count": 148,
   "id": "30d0f432-9e0d-4940-8b96-ad8b5d206202",
   "metadata": {},
   "outputs": [],
   "source": [
    "import pandas as pd\n",
    "import plotly as pl\n",
    "\n",
    "url = \"data/combined_job_offers.csv\"\n",
    "url2 = \"data/combined_job_offers3.csv\"\n",
    "\n",
    "df1 = pd.read_csv(url)\n",
    "df2 = pd.read_csv(url2)\n",
    "\n",
    "df3 = pd.concat([df1,df2],axis=0)\n",
    "\n",
    "pd.set_option('display.max_columns', None)"
   ]
  },
  {
   "cell_type": "code",
   "execution_count": 149,
   "id": "8095d9f0-eb98-4fff-bae2-3621ae368014",
   "metadata": {},
   "outputs": [],
   "source": [
    "#!pip install curl_cffi\n",
    "import pandas as pd\n",
    "from bs4 import BeautifulSoup\n",
    "from curl_cffi import requests as cureq\n",
    "\n",
    "headers = \"Mozilla/5.0 (Macintosh; Intel Mac OS X 10_15_7) AppleWebKit/537.36 (KHTML, like Gecko) Chrome/132.0.0.0 Safari/537.36\"\n",
    "response = cureq.get(\"https://www.stepstone.de/jobs/data-analyst-or-data-analyst-e-commerce-or-data-analyst-specialist-or-business-data-analyst/in-berlin?radius=30&page=1&q=(Data+Analyst)+OR+(Data+Analyst+E-Commerce)+OR+(Data+Analyst+Specialist)+OR+(Business+Data+Analyst)\", impersonate='chrome')\n",
    "soup = BeautifulSoup(response.content, \"html.parser\")"
   ]
  },
  {
   "cell_type": "code",
   "execution_count": 167,
   "id": "16f1af0e-033b-4142-9328-a096556978eb",
   "metadata": {},
   "outputs": [],
   "source": [
    "# scrape job titles\n",
    "itest = soup.find_all(['article'], attrs={\"class\": 'res-1p8f8en'})\n",
    "job_title_list = []\n",
    "for item in itest:\n",
    "    job_title_list.append(item.find(['div'], attrs={'class': 'res-nehv70'}).get_text())\n"
   ]
  },
  {
   "cell_type": "code",
   "execution_count": 166,
   "id": "fe20b61c-5bd1-4fdf-9e13-79ddeab28530",
   "metadata": {
    "scrolled": true
   },
   "outputs": [],
   "source": [
    "# 1 drop columns df3\n",
    "df3_dropped = df3.drop(columns =['repost_date', 'email', 'job_desc'])\n"
   ]
  },
  {
   "cell_type": "code",
   "execution_count": 165,
   "id": "cae174d4-38d5-46cc-836e-58a34f212d79",
   "metadata": {},
   "outputs": [],
   "source": [
    "# 2 Renaming 'link'\n",
    "df3_dropped.rename(columns={'link': 'source'}, inplace=True)\n"
   ]
  },
  {
   "cell_type": "code",
   "execution_count": 164,
   "id": "0ba1d172-a36c-479b-81f4-8de0f038fd92",
   "metadata": {
    "scrolled": true
   },
   "outputs": [],
   "source": [
    "# 3 replace all links with LinkedIn\n",
    "# apply lambda for each cell replace all string\n",
    "df4 = df3_dropped\n",
    "df4['source'] = df4['source'].apply(lambda x: 'LinkedIn')"
   ]
  },
  {
   "cell_type": "code",
   "execution_count": null,
   "id": "31f4a70c-ccc1-408c-ad9d-37adc35e8c61",
   "metadata": {},
   "outputs": [],
   "source": []
  }
 ],
 "metadata": {
  "kernelspec": {
   "display_name": "Python 3 (ipykernel)",
   "language": "python",
   "name": "python3"
  },
  "language_info": {
   "codemirror_mode": {
    "name": "ipython",
    "version": 3
   },
   "file_extension": ".py",
   "mimetype": "text/x-python",
   "name": "python",
   "nbconvert_exporter": "python",
   "pygments_lexer": "ipython3",
   "version": "3.12.7"
  }
 },
 "nbformat": 4,
 "nbformat_minor": 5
}
